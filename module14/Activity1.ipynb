{
 "cells": [
  {
   "cell_type": "markdown",
   "id": "c99eb08b",
   "metadata": {},
   "source": [
    "# In-class Activity 14.1\n",
    "\n",
    "Download [Romeo and Juliet, by William Shakespeare](https://www.gutenberg.org/cache/epub/1513/pg1513.txt) txt file and perform analysis on the top 20 most used words in this story by visualizing the usage through a histogram or bar chart."
   ]
  },
  {
   "cell_type": "code",
   "execution_count": null,
   "id": "079f7824",
   "metadata": {},
   "outputs": [],
   "source": []
  }
 ],
 "metadata": {
  "kernelspec": {
   "display_name": "Python 3 (ipykernel)",
   "language": "python",
   "name": "python3"
  },
  "language_info": {
   "codemirror_mode": {
    "name": "ipython",
    "version": 3
   },
   "file_extension": ".py",
   "mimetype": "text/x-python",
   "name": "python",
   "nbconvert_exporter": "python",
   "pygments_lexer": "ipython3",
   "version": "3.11.4"
  }
 },
 "nbformat": 4,
 "nbformat_minor": 5
}
