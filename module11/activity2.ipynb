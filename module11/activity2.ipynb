{
 "cells": [
  {
   "cell_type": "markdown",
   "id": "101aaa96",
   "metadata": {},
   "source": [
    "# In-class Activity\n",
    "\n",
    "* Train a Linear Regression model using scikit-learn to learn a function based on the observations in `X` features and `y` labels below.\n",
    "\n",
    "* Then predict the label for the sample `[74,\t170,\t110]`."
   ]
  },
  {
   "cell_type": "code",
   "execution_count": 1,
   "id": "f10caf5f",
   "metadata": {},
   "outputs": [],
   "source": [
    "X = [\n",
    "    [18, 168, 210],\n",
    "    [25, 171, 185],\n",
    "    [32, 170, 160],\n",
    "    [39, 173, 135],\n",
    "    [46, 171, 110],\n",
    "    [53, 170, 110],\n",
    "    [60, 173, 110],\n",
    "    [67, 171, 110], \n",
    "]\n",
    "\n",
    "y = [91,\n",
    "84,\n",
    "81,\n",
    "74,\n",
    "72,\n",
    "94,\n",
    "112,\n",
    "135,]"
   ]
  }
 ],
 "metadata": {
  "kernelspec": {
   "display_name": "Python 3 (ipykernel)",
   "language": "python",
   "name": "python3"
  },
  "language_info": {
   "codemirror_mode": {
    "name": "ipython",
    "version": 3
   },
   "file_extension": ".py",
   "mimetype": "text/x-python",
   "name": "python",
   "nbconvert_exporter": "python",
   "pygments_lexer": "ipython3",
   "version": "3.11.4"
  }
 },
 "nbformat": 4,
 "nbformat_minor": 5
}
