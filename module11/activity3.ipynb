{
 "cells": [
  {
   "cell_type": "markdown",
   "id": "ba02e837",
   "metadata": {},
   "source": [
    "# In-class Activity\n",
    "\n",
    "* Train a decision tree classifier using scikit-learn to predict if a patient has diabetes in the [Pima Indians Diabetes Database](https://www.kaggle.com/datasets/uciml/pima-indians-diabetes-database).\n",
    "\n",
    "* Use 10% of data for prediction and report both training and prediction accuracy.\n",
    "\n",
    "* [Data split tool](https://scikit-learn.org/stable/modules/generated/sklearn.model_selection.train_test_split.html)"
   ]
  },
  {
   "cell_type": "markdown",
   "id": "83b16cdd",
   "metadata": {},
   "source": [
    "# Kaggle\n",
    "\n",
    "* an online community of data scientists and machine learning practitioners\n",
    "\n",
    "* Kaggle, a subsidiary of Google\n",
    "\n",
    "* Kaggle helps users to find and publish data sets\n",
    "\n",
    " * explore and build models in a web-based data-science environment\n",
    " \n",
    " * work with other data scientists and machine learning engineers\n",
    " \n",
    " * enter competitions to solve data science challenges"
   ]
  },
  {
   "cell_type": "code",
   "execution_count": 5,
   "id": "04025d5d",
   "metadata": {},
   "outputs": [
    {
     "data": {
      "text/plain": [
       "array([['6', '148', '72', ..., '0.627', '50', '1'],\n",
       "       ['1', '85', '66', ..., '0.351', '31', '0'],\n",
       "       ['8', '183', '64', ..., '0.672', '32', '1'],\n",
       "       ...,\n",
       "       ['5', '121', '72', ..., '0.245', '30', '0'],\n",
       "       ['1', '126', '60', ..., '0.349', '47', '1'],\n",
       "       ['1', '93', '70', ..., '0.315', '23', '0']], dtype='<U5')"
      ]
     },
     "execution_count": 5,
     "metadata": {},
     "output_type": "execute_result"
    }
   ],
   "source": [
    "import numpy as np\n",
    "\n",
    "arr = np.loadtxt('archive/diabetes.csv',  skiprows =1, dtype = str, delimiter=\",\")\n",
    "\n",
    "arr"
   ]
  }
 ],
 "metadata": {
  "kernelspec": {
   "display_name": "Python 3 (ipykernel)",
   "language": "python",
   "name": "python3"
  },
  "language_info": {
   "codemirror_mode": {
    "name": "ipython",
    "version": 3
   },
   "file_extension": ".py",
   "mimetype": "text/x-python",
   "name": "python",
   "nbconvert_exporter": "python",
   "pygments_lexer": "ipython3",
   "version": "3.11.4"
  }
 },
 "nbformat": 4,
 "nbformat_minor": 5
}
