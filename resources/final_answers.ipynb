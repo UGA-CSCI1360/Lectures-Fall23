{
 "cells": [
  {
   "attachments": {},
   "cell_type": "markdown",
   "metadata": {},
   "source": [
    "# Final Exam Solutions\n",
    "\n",
    "These are answers for questions that required composed solutions. Other questions can be checked by running the provided code in the problem text."
   ]
  },
  {
   "attachments": {},
   "cell_type": "markdown",
   "metadata": {},
   "source": [
    "## Question 8\n",
    "Create a Python function and name it next_word. The function should accept two positional arguments word and sentence. The function returns the word that comes directly after what is specified in the word argument. The returned value should be in the UPPER CASE."
   ]
  },
  {
   "cell_type": "code",
   "execution_count": 8,
   "metadata": {},
   "outputs": [
    {
     "name": "stdout",
     "output_type": "stream",
     "text": [
      "CREATE\n",
      "FILLED\n",
      "CHASED\n"
     ]
    }
   ],
   "source": [
    "# Solution 1\n",
    "def next_word(word, sentence):\n",
    "    index = sentence.find(word)\n",
    "    index_space1 = sentence.find(' ', index)\n",
    "    index_space2 = sentence.find(' ', index_space1 + 1)\n",
    "    out = sentence[index_space1: index_space2]\n",
    "    return out.upper()\n",
    "\n",
    "# Solution 2\n",
    "def next_word(word, sentence):\n",
    "    words_list = sentence.split()\n",
    "    for i, w in enumerate( words_list):\n",
    "        if w.find(word) != -1:\n",
    "            return words_list[i + 1].upper()\n",
    "\n",
    "print( next_word(word = 'word', sentence = 'Several words create a sentence. ') )\n",
    "print( next_word(sentence = 'The aroma of fresh coffee filled the air.', word = 'coffee') )\n",
    "print( next_word('kitten', 'The playful kitten chased a fluttering butterfly.') )"
   ]
  },
  {
   "attachments": {},
   "cell_type": "markdown",
   "metadata": {},
   "source": [
    "## Question 9\n",
    "\n",
    "Write Python code that reads a dataset file and transforms it to a dictionary. The file follows the comma-separated values (CSV) format and has multiple lines. The first column values in the file should be used as the dictionary keys. The dictionary values are the numerical float numbers in the text file except the first column values.\n",
    "\n",
    "The first line in the file is the column names (header), so it should be ignored when reading the file. Each remaining line represents a record in the dataset, the first value in each line (before the first comma) is the record identification value, and the remaining text is the record values after splitting. The figure below shows a visualization of the dataset structure.\n",
    "\n"
   ]
  },
  {
   "cell_type": "code",
   "execution_count": null,
   "metadata": {},
   "outputs": [],
   "source": [
    "with open(path, 'r') as f:\n",
    "    lines = f.readlines()\n",
    "    d = {}\n",
    "    for i in range(1,len(lines)):\n",
    "        columns = lines[i].split(',')\n",
    "        l = []\n",
    "        for j in range(1, len(columns)):\n",
    "            l.append(columns[j].strip())\n",
    "        d[columns[0]] = l\n",
    "    print(d)"
   ]
  },
  {
   "attachments": {},
   "cell_type": "markdown",
   "metadata": {},
   "source": [
    "## Question 11\n"
   ]
  },
  {
   "cell_type": "code",
   "execution_count": 9,
   "metadata": {},
   "outputs": [
    {
     "name": "stdout",
     "output_type": "stream",
     "text": [
      "[['A' 'B' 'C' 'D' 'E']]\n",
      "[['A']\n",
      " ['F']\n",
      " ['K']\n",
      " ['P']\n",
      " ['U']\n",
      " ['Z']]\n",
      "[['D']\n",
      " ['I']\n",
      " ['N']\n",
      " ['S']\n",
      " ['X']\n",
      " ['AC']]\n"
     ]
    }
   ],
   "source": [
    "l =[['A', 'B', 'C', 'D', 'E',],\n",
    "    ['F', 'G', 'H', 'I', 'J',],\n",
    "    ['K', 'L', 'M', 'N', 'O',],\n",
    "    ['P', 'Q', 'R', 'S', 'T',],\n",
    "    ['U', 'V', 'W', 'X', 'Y',],\n",
    "    ['Z', 'AA', 'AB', 'AC', 'AD',],]\n",
    "\n",
    "import numpy as np\n",
    "\n",
    "arr = np.array(l)\n",
    "print(arr[0:1,:])\n",
    "print(arr[:,0:1])\n",
    "print(arr[:,-2:-1])"
   ]
  },
  {
   "attachments": {},
   "cell_type": "markdown",
   "metadata": {},
   "source": [
    "## Question 12\n",
    "\n",
    "A - arr[2:5,1:4]\n",
    "\n",
    "B - A, K"
   ]
  },
  {
   "attachments": {},
   "cell_type": "markdown",
   "metadata": {},
   "source": [
    "## Question 13\n",
    "\n",
    "Use Numpy to transform all the even numbers in the above array arr to zero. Your solution should be implemented in one line.\n",
    "\n"
   ]
  },
  {
   "cell_type": "code",
   "execution_count": 10,
   "metadata": {},
   "outputs": [
    {
     "name": "stdout",
     "output_type": "stream",
     "text": [
      "[[ 0 99  0  0  0]\n",
      " [43 51 47  0  0]\n",
      " [ 0  0  0  0  0]\n",
      " [97 53  0 97 97]\n",
      " [43 43  0  0 13]\n",
      " [33 23 21  0  0]]\n"
     ]
    }
   ],
   "source": [
    "l2 = [\n",
    "    [60,99,12,88,60],\n",
    "    [43,51,47,58,80],\n",
    "    [26,42,36,38,44],\n",
    "    [97,53,92,97,97],\n",
    "    [43,43,12,12,13],\n",
    "    [33,23,21,82,90],\n",
    "]\n",
    "\n",
    "import numpy as np\n",
    "\n",
    "arr = np.array(l2)\n",
    "\n",
    "arr[(arr % 2 == 0)]=0\t\n",
    "\n",
    "print( arr )"
   ]
  },
  {
   "attachments": {},
   "cell_type": "markdown",
   "metadata": {},
   "source": [
    "## Questio 14\n",
    "\n",
    "The following function header suffers from several SyntaxErrors. Make the necessary corrections to this function header to make it work without adding additional lines.\n",
    "\n",
    "```\n",
    "def first_function(x.is_valid, noon_amount=0):\n",
    "```"
   ]
  },
  {
   "attachments": {},
   "cell_type": "markdown",
   "metadata": {},
   "source": [
    "## Question 15\n",
    "\n",
    "`arr[1: ,1:3]`\n"
   ]
  },
  {
   "attachments": {},
   "cell_type": "markdown",
   "metadata": {},
   "source": [
    "## Question 19\n",
    "\n",
    "Given data about three cities in the dictionary below. Write code to print the information that includes the city name, population, and average household size, in a format that is identical to the provided output screenshot."
   ]
  },
  {
   "cell_type": "code",
   "execution_count": 11,
   "metadata": {},
   "outputs": [
    {
     "name": "stdout",
     "output_type": "stream",
     "text": [
      "           City      Population Avg. Household Size\n",
      "--------------------------------------------------\n",
      "        El Paso         678,415             2.9\n",
      "--------------------------------------------------\n",
      "     Pittsburgh         300,431             2.0\n",
      "--------------------------------------------------\n",
      "        Fontana         210,761             3.8\n",
      "--------------------------------------------------\n"
     ]
    }
   ],
   "source": [
    "cities = {}\n",
    "cities['El Paso'] = (678415, 2.92)\n",
    "cities['Pittsburgh'] = (300431, 2.04)\n",
    "cities['Fontana'] = (210761, 3.84)\n",
    "\n",
    "print(f'{\"City\":>15} {\"Population\":>15} {\"Avg. Household Size\":>15}')\n",
    "print(''.join(['-' for i in range(50)]))\n",
    "\n",
    "for _, v in enumerate(cities):\n",
    "    print(f'{v:>15} {cities[v][0]:>15,} {cities[v][1]:>15.1f}')\n",
    "    print(''.join(['-' for i in range(50)]))"
   ]
  }
 ],
 "metadata": {
  "kernelspec": {
   "display_name": "csci1360",
   "language": "python",
   "name": "python3"
  },
  "language_info": {
   "codemirror_mode": {
    "name": "ipython",
    "version": 3
   },
   "file_extension": ".py",
   "mimetype": "text/x-python",
   "name": "python",
   "nbconvert_exporter": "python",
   "pygments_lexer": "ipython3",
   "version": "3.11.4"
  },
  "orig_nbformat": 4
 },
 "nbformat": 4,
 "nbformat_minor": 2
}
