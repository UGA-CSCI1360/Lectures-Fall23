{
 "cells": [
  {
   "cell_type": "markdown",
   "id": "b6c43b0b",
   "metadata": {},
   "source": [
    "# CSCI 1360 - Assignment 2\n",
    "## Question 1\n",
    "\n",
    "- Total points 100\n",
    "- For each part, write your solution in the given space between the two Python comment lines: **Begin your solution** and **End your solution**.\n",
    "- Do not change the code outside the two comment lines."
   ]
  },
  {
   "cell_type": "markdown",
   "id": "b9c0517b",
   "metadata": {},
   "source": [
    "### Part A (*for* *while* loops), 25 points\n",
    "\n",
    "Convert the following `for` loop to a `while` loop, then complete the following requirements.\n",
    "- Calculate the total population for cities that have greater than 1 million and less than 10 million population.\n",
    "- Only consider the first three cities that meet the above criteria when calculating the total.\n",
    "\n",
    "Your code will be tested on a different dataset. Thus, avoid customizing your code for the provided dataset only and provide a general solution.\n",
    "\n",
    "#### Grading Rubric\n",
    "- Iterations counter usage  (5 points)\n",
    "- Correct loop header  (5 points)\n",
    "- Correct conditions  (5 points)\n",
    "- Correct loop termination  (5 points)\n",
    "- Passes test cases (5 points)"
   ]
  },
  {
   "cell_type": "code",
   "execution_count": 4,
   "id": "9832559a",
   "metadata": {},
   "outputs": [
    {
     "name": "stdout",
     "output_type": "stream",
     "text": [
      "Rome\n",
      "Vienna\n",
      "Istanbul\n",
      "Lisbon\n",
      "Barcelona\n",
      "Prague\n",
      "Paris\n",
      "Rome 2800000\n",
      "Vienna 1700000\n",
      "Barcelona 1600000\n",
      "6100000\n"
     ]
    }
   ],
   "source": [
    "cities_population = {\n",
    "    'Rome' : 2800000,\n",
    "    'Vienna' : 1700000,\n",
    "    'Istanbul' : 16000000,\n",
    "    'Lisbon' : 550000,\n",
    "    'Barcelona' : 1600000,\n",
    "    'Prague' : 1400000,\n",
    "    'Paris' : 2100000,\n",
    "}\n",
    "\n",
    "for city, population in cities_population.items():\n",
    "    print(city)\n",
    "\n",
    "total = 0\n",
    "\n",
    "# Begin your solution below this line\n",
    "i = 0\n",
    "while i < len( list( cities_population.keys() ) ):\n",
    "    keys = list( cities_population.keys() )\n",
    "    if cities_population[ keys[i] ] < 1000000 or cities_population[ keys[i] ] > 10000000:\n",
    "        i += 1\n",
    "        continue\n",
    "\n",
    "    print(keys[i], cities_population[ keys[i] ])\n",
    "\n",
    "\n",
    "    total += cities_population[ keys[i] ]\n",
    "    i += 1\n",
    "    \n",
    "    \n",
    "    if i > 3:\n",
    "        break\n",
    "\n",
    "print(total)\n",
    "\n",
    "# End your solution, do not change anything below this line\n",
    "\n",
    "# This assert line helps in testing your solution\n",
    "# if it generates an error then your solution is not correct\n",
    "assert total == 6100000\n"
   ]
  },
  {
   "cell_type": "markdown",
   "id": "97660294",
   "metadata": {},
   "source": [
    "### Part B (Functions), 25 points\n",
    "\n",
    "Assume that Python does not have the built-in function [range](https://docs.python.org/3/library/functions.html#func-range). Write a function named `custom_range` that implements some of the original `range` functionalities.\n",
    "\n",
    "Your function will **return** a list of numbers generated in an **ascending** order based on a given input. Your function should accept the following input arguments:\n",
    "- Two positional arguments that represent the numbers' sequence range.\n",
    "- A default argument that represents the stepping value when generating the sequence. The default value should be **1**.\n",
    "\n",
    "Any call to the `range` function in your solution is prohibited.\n",
    "\n",
    "#### Grading Rubric\n",
    "- Correct function header  (5 points)\n",
    "- Correct loop implementation  (5 points)\n",
    "- Correct output instruction  (5 points)\n",
    "- Passes test case 1  (5 points)\n",
    "- Passes test case 2  (5 points)"
   ]
  },
  {
   "cell_type": "code",
   "execution_count": 74,
   "id": "de2a1cf8",
   "metadata": {},
   "outputs": [],
   "source": [
    "\n",
    "# Begin your solution below this line\n",
    "\n",
    "def custom_range(range1, range2, step = 1):\n",
    "    l = []\n",
    "    i = range1\n",
    "    while i < range2:\n",
    "        l.append(i)\n",
    "        i += step\n",
    "    \n",
    "    return l\n",
    "\n",
    "# End your solution, do not change anything below this line\n",
    "\n",
    "# This assert lines helps in testing your solution\n",
    "# if it generates an error then your solution is not correct\n",
    "assert custom_range(0, 5) == [0, 1, 2, 3, 4]\n",
    "assert custom_range(0, 5, 2) == [0, 2, 4]"
   ]
  },
  {
   "cell_type": "markdown",
   "id": "71d735bd",
   "metadata": {},
   "source": [
    "### Part C (List Comprehensions), 25 points\n",
    "\n",
    "Fix the below code to make `total` variable hold the summation of the odd numbers in the list of the following values `[30, 39, 48, 57, 66]`.\n",
    "```\n",
    "i = 0\n",
    "total = 0\n",
    "while l[i] != 66:\n",
    "if i % 2 == 1:\n",
    "total = total + l[i]\n",
    "i += 1\n",
    "print(total)\n",
    "```\n",
    "\n",
    "A list comprehension is provided for you to generate the numbers list.\n",
    "\n",
    "#### Grading Rubric\n",
    "- Partial points for each fix."
   ]
  },
  {
   "cell_type": "code",
   "execution_count": 75,
   "id": "16e11405",
   "metadata": {},
   "outputs": [
    {
     "name": "stdout",
     "output_type": "stream",
     "text": [
      "30\n",
      "39\n",
      "48\n",
      "57\n",
      "96\n"
     ]
    }
   ],
   "source": [
    "l = [i * 3 for i in range(10, 26, 3)]\n",
    "\n",
    "\n",
    "# Begin your solution below this line\n",
    "\n",
    "i = 0\n",
    "total = 0\n",
    "while l[i] != 66:\n",
    "    print(l[i])\n",
    "    if i % 2 == 1:\n",
    "        total = total + l[i]\n",
    "    \n",
    "    i += 1\n",
    "\n",
    "print(total)\n",
    "\n",
    "# End your solution, do not change anything below this line\n",
    "\n",
    "# This assert lines helps in testing your solution\n",
    "# if it generates an error then your solution is not correct\n",
    "assert total == 96"
   ]
  },
  {
   "cell_type": "markdown",
   "id": "cd651ad1",
   "metadata": {},
   "source": [
    "### Part D (Handling Exceptions), 25 points\n",
    "\n",
    "The `investing_wallet` function prints the first stock name in the input list, then using the input lists, it prints the stock price according to the number of shares and the total purchase value for that stock.\n",
    "\n",
    "It is critical to make the function robust to errors, so some exception handling lines are required:\n",
    "\n",
    "- The function should print a custom message when attempting to divide by zero for any `shares` list item. (5 points)\n",
    "- The function should print a different message when trying to access an item in the `stocks` list with invalid index. (5 points)\n",
    "- The function should print a message of your choice for any other type of error.  (5 points)\n",
    "- If no errors are detected, the function should print a message telling the user that no errors happened. (5 points)\n",
    "- Last but not least, prints a message to inform the user of the end of the function execution. (5 points)\n",
    "\n",
    "You are free to choose any message content for each case."
   ]
  },
  {
   "cell_type": "code",
   "execution_count": 2,
   "id": "a278f18b",
   "metadata": {},
   "outputs": [
    {
     "name": "stdout",
     "output_type": "stream",
     "text": [
      "Your first stock is AAPL\n",
      "Please provide valid data\n",
      "End of the function\n",
      "No stock names are provided\n",
      "End of the function\n",
      "Your first stock is AAPL\n",
      "AAPL your price was 175.0\n",
      "AMZN your price was 142.0\n",
      "GOOG your price was 89.0\n",
      "No errors detected\n",
      "End of the function\n"
     ]
    }
   ],
   "source": [
    "def investing_wallet(stocks, shares, values):\n",
    "\n",
    "# Begin your solution below this line\n",
    "\n",
    "    try:\n",
    "        print('Your first stock is ' + stocks[0])\n",
    "        for stock, share, value in zip(stocks, shares, values):\n",
    "            price = value / share\n",
    "            print(f'{stock} your price was {str(price):.7}')\n",
    "\n",
    "    except ZeroDivisionError:\n",
    "        print('Please provide valid data')\n",
    "\n",
    "    except IndexError:\n",
    "        print('No stock names are provided')\n",
    "    \n",
    "    else:\n",
    "        print('No errors detected')\n",
    "    \n",
    "    finally:\n",
    "        print('End of the function')\n",
    "\n",
    "# End your solution, do not change anything below this line\n",
    "\n",
    "# test cases\n",
    "stocks = ['AAPL', 'AMZN', 'GOOG']\n",
    "shares = [40, 3, 2]\n",
    "\n",
    "# test case 1, the following is expected:\n",
    "# Your first stock is AAPL\n",
    "# Please provide valid data\n",
    "# End of the function\n",
    "investing_wallet(stocks, [0, 3, 2], [200, 426, 178])\n",
    "\n",
    "# test case 2, the following is expected:\n",
    "# No stock names are provided\n",
    "# End of the function\n",
    "investing_wallet([], shares, [0, 426, 178])\n",
    "\n",
    "# test case 3, the following is expected:\n",
    "# No stock names are provided\n",
    "# End of the function\n",
    "investing_wallet(stocks, shares, [7000, 426, 178])\n"
   ]
  },
  {
   "cell_type": "code",
   "execution_count": null,
   "id": "390c7e75",
   "metadata": {},
   "outputs": [],
   "source": []
  }
 ],
 "metadata": {
  "kernelspec": {
   "display_name": "Python 3 (ipykernel)",
   "language": "python",
   "name": "python3"
  },
  "language_info": {
   "codemirror_mode": {
    "name": "ipython",
    "version": 3
   },
   "file_extension": ".py",
   "mimetype": "text/x-python",
   "name": "python",
   "nbconvert_exporter": "python",
   "pygments_lexer": "ipython3",
   "version": "3.11.4"
  }
 },
 "nbformat": 4,
 "nbformat_minor": 5
}
