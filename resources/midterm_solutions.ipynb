{
 "cells": [
  {
   "attachments": {},
   "cell_type": "markdown",
   "id": "aadae945",
   "metadata": {},
   "source": [
    "# Midterm Exam Solutions"
   ]
  },
  {
   "cell_type": "code",
   "execution_count": 12,
   "id": "5e64c892",
   "metadata": {},
   "outputs": [
    {
     "name": "stdout",
     "output_type": "stream",
     "text": [
      "5\n"
     ]
    }
   ],
   "source": [
    "# Question 2\n",
    "print( int( (4 ** 2 + 2) / (8 - 2) + 2))"
   ]
  },
  {
   "cell_type": "code",
   "execution_count": 13,
   "id": "69284ecf",
   "metadata": {},
   "outputs": [
    {
     "name": "stdout",
     "output_type": "stream",
     "text": [
      "Abcdefga bcdefg\n"
     ]
    }
   ],
   "source": [
    "# Question 3\n",
    "my_string = 'a bcdefg'\n",
    "print( my_string[0].upper() +  my_string[1:].strip() + my_string)"
   ]
  },
  {
   "cell_type": "code",
   "execution_count": 14,
   "id": "8f4daf90",
   "metadata": {},
   "outputs": [
    {
     "name": "stdout",
     "output_type": "stream",
     "text": [
      "['b', 'c', 'd', 'e']\n"
     ]
    }
   ],
   "source": [
    "# Question 4\n",
    "my_list = ['a', 'b', 'c', 'd', 'e', 'f', 'g']\n",
    "print( my_list[1:-2] )"
   ]
  },
  {
   "cell_type": "code",
   "execution_count": 15,
   "id": "91044501",
   "metadata": {},
   "outputs": [
    {
     "name": "stdout",
     "output_type": "stream",
     "text": [
      "['a', 'b', 'c', 'd', 'e', 'f', 'g']\n"
     ]
    }
   ],
   "source": [
    "# Question 5\n",
    "my_list = ['a', 'b', 'c', 'd', 'e', 'f', 'g']\n",
    "print( my_list[:] )"
   ]
  },
  {
   "cell_type": "code",
   "execution_count": 16,
   "id": "898f753c",
   "metadata": {},
   "outputs": [
    {
     "name": "stdout",
     "output_type": "stream",
     "text": [
      "N\n"
     ]
    }
   ],
   "source": [
    "# Question 7\n",
    "top_stocks = {\n",
    "    'AAPL': 'Apple',\n",
    "    'AMZN': 'Amazon',\n",
    "    'MSFT': 'Microsoft',\n",
    "    'INTC': 'Intel',\n",
    "    'NVDA': 'NVIDIA',\n",
    "    'TSLA': 'Tesla',\n",
    "}\n",
    "\n",
    "i = 1\n",
    "\n",
    "stock_tuples = list( top_stocks.items() )\n",
    "\n",
    "while i < len(stock_tuples) - 2:\n",
    "    k , v = stock_tuples[i]\n",
    "    i += 1\n",
    "    if i % 2 == 0:\n",
    "        print(k[-1])\n",
    "        i += 2"
   ]
  },
  {
   "cell_type": "code",
   "execution_count": 17,
   "id": "4f27541f",
   "metadata": {},
   "outputs": [
    {
     "name": "stdout",
     "output_type": "stream",
     "text": [
      "45\n"
     ]
    }
   ],
   "source": [
    "# Question 8\n",
    "balance = 10 ** 2\n",
    "\n",
    "for i in range(17,1,-3):\n",
    "    balance -= i\n",
    "    if i > 14:\n",
    "        continue\n",
    "    elif i <= 5 and i > 2:\n",
    "        break\n",
    "\n",
    "print(balance)"
   ]
  },
  {
   "cell_type": "code",
   "execution_count": 18,
   "id": "c6f4e7a2",
   "metadata": {},
   "outputs": [
    {
     "name": "stdout",
     "output_type": "stream",
     "text": [
      "Start\n",
      "Price: 2.0\n",
      "Price: 2.5\n",
      "Invalid Index\n",
      "Done\n"
     ]
    }
   ],
   "source": [
    "# Question 9\n",
    "try:\n",
    "    print('Start')\n",
    "    purchase_costs = [6, 5]\n",
    "    purchase_counts = [3, 2, 0]\n",
    "    i = 0\n",
    "    while i <= len(purchase_costs):\n",
    "        print( 'Price:', purchase_costs[i] / purchase_counts[i] )\n",
    "        i += 1\n",
    "except IndexError:\n",
    "    print('Invalid Index')\n",
    "except ZeroDivisionError:\n",
    "    print('Do not divide by 0')\n",
    "else:\n",
    "    print('Reached else')\n",
    "finally:\n",
    "    print('Done')\n",
    "        "
   ]
  },
  {
   "cell_type": "code",
   "execution_count": 19,
   "id": "6247e799",
   "metadata": {
    "scrolled": true
   },
   "outputs": [
    {
     "name": "stdout",
     "output_type": "stream",
     "text": [
      "18.0\n",
      "21.0\n"
     ]
    }
   ],
   "source": [
    "# Question 10\n",
    "def add_shipping_cost(price, tax, shipping = 7.0):\n",
    "    return float(price + tax + shipping)\n",
    "\n",
    "print( add_shipping_cost(10, 1) ) # prints 18.0\n",
    "print( add_shipping_cost(tax = 1, price = 10, shipping = 10) ) # prints 21.0"
   ]
  },
  {
   "cell_type": "code",
   "execution_count": 20,
   "id": "77f92708",
   "metadata": {},
   "outputs": [],
   "source": [
    "# Question 12\n",
    "items = ['Soda', 'Coffee', 'Bread', 'Bread']\n",
    "transactions = [3.2, 7.7, 2.3, 1.2]\n",
    "for i, v in enumerate(items):\n",
    "    with open(v + \".txt\", \"w\") as file_object:\n",
    "        file_object.write( str(transactions[i]) )"
   ]
  },
  {
   "cell_type": "code",
   "execution_count": null,
   "id": "8cef1bcb",
   "metadata": {},
   "outputs": [],
   "source": [
    "# Question 14\n",
    "if expected_value > actual_value:\n",
    "    print('expected_value is greater')\n",
    "else:\n",
    "    print('actual_value is more')\n",
    "    print('or: expected_value is equivalent to actual_value')"
   ]
  },
  {
   "cell_type": "code",
   "execution_count": 21,
   "id": "eb8d3fe1",
   "metadata": {},
   "outputs": [
    {
     "name": "stdout",
     "output_type": "stream",
     "text": [
      "True\n"
     ]
    }
   ],
   "source": [
    "# Question 15\n",
    "a = 8\n",
    "b = 6\n",
    "c = 4\n",
    "if a > b or b < c:\n",
    "    print(a > b)"
   ]
  },
  {
   "cell_type": "code",
   "execution_count": 22,
   "id": "71ea28d7",
   "metadata": {},
   "outputs": [
    {
     "name": "stdout",
     "output_type": "stream",
     "text": [
      "['g', 'f', 'e', 'd']\n"
     ]
    }
   ],
   "source": [
    "# Question 19\n",
    "my_list = ['a', 'b', 'c', 'd', 'e', 'f', 'g']\n",
    "print( my_list[:2:-1] )"
   ]
  },
  {
   "cell_type": "code",
   "execution_count": 23,
   "id": "98979afb",
   "metadata": {},
   "outputs": [
    {
     "name": "stdout",
     "output_type": "stream",
     "text": [
      "7.2 5 2.3\n"
     ]
    }
   ],
   "source": [
    "# Question 20\n",
    "def max3(set):\n",
    "   x=list(set)\n",
    "   max_1=0\n",
    "   max_2=0\n",
    "   max_3=0\n",
    "   for i in range(len(x)):\n",
    "       if x[i]>max_1 and x[i]>max_2 and x[i]>max_3:\n",
    "           max_3=max_2\n",
    "           max_2=max_1\n",
    "           max_1=x[i]\n",
    "       elif x[i]<max_1 and x[j]>max_2 and x[j]>max_3:\n",
    "           max_3=max_2\n",
    "           max_2=x[i]\n",
    "       elif x[i]<max_1 and x[j]<max_2 and x[j]>max_3:\n",
    "           max_3=x[i]\n",
    "   print(max_1,max_2,max_3)\n",
    "\n",
    "max3( {2.3, 1.1, 7.2, 5} ) # prints 7.2, 5, 2.3\n"
   ]
  },
  {
   "cell_type": "code",
   "execution_count": null,
   "id": "859d6c19",
   "metadata": {},
   "outputs": [],
   "source": []
  }
 ],
 "metadata": {
  "kernelspec": {
   "display_name": "Python 3 (ipykernel)",
   "language": "python",
   "name": "python3"
  },
  "language_info": {
   "codemirror_mode": {
    "name": "ipython",
    "version": 3
   },
   "file_extension": ".py",
   "mimetype": "text/x-python",
   "name": "python",
   "nbconvert_exporter": "python",
   "pygments_lexer": "ipython3",
   "version": "3.11.4"
  }
 },
 "nbformat": 4,
 "nbformat_minor": 5
}
