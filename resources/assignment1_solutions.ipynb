{
 "cells": [
  {
   "attachments": {},
   "cell_type": "markdown",
   "id": "cdaa64c9",
   "metadata": {},
   "source": [
    "# CSCI 1360 - Assignment 1\n",
    "## Question 1\n",
    "\n",
    "- Total points 100\n",
    "- For each part, write your solutions in the given space between the two Python comment lines: **Begin your solution** and **End your solution**.\n",
    "- Do not change the code outside the two comments."
   ]
  },
  {
   "attachments": {},
   "cell_type": "markdown",
   "id": "c6f8f142",
   "metadata": {},
   "source": [
    "### Part A (Arithmetic Operations), 25 points\n",
    "\n",
    "Write the following formulas as Python code in the given space below. You may depend on the given variable values and the shown output to test your solution. Thus, for the given example of *x*, *y*, *a* and *b*, then *z* should be 128.5 and *c* is 80.\n",
    "\n",
    "$$ z = x^7 - \\sqrt{y} + 3.5 $$\n",
    "\n",
    "$$ c = a^4 - (b + 12)^2 $$\n"
   ]
  },
  {
   "cell_type": "code",
   "execution_count": 25,
   "id": "f2cf6000",
   "metadata": {},
   "outputs": [
    {
     "name": "stdout",
     "output_type": "stream",
     "text": [
      "128.5\n",
      "80\n"
     ]
    }
   ],
   "source": [
    "x = 2 \n",
    "y = 9\n",
    "a = 3\n",
    "b = -13\n",
    "\n",
    "# Begin your solution below this line\n",
    "\n",
    "z = x ** 7 - y ** 0.5 + 3.5\n",
    "c = a ** 4 - (b + 12) ** 2\n",
    "\n",
    "# End your solution, do not change anything below this line\n",
    "\n",
    "print(z)\n",
    "print(c)"
   ]
  },
  {
   "attachments": {},
   "cell_type": "markdown",
   "id": "d35c6f40",
   "metadata": {},
   "source": [
    "### Part B (String Manipulation), 25 points\n",
    "For the given employee information below, use Python methods to fulfil the following requirements:\n",
    "- Remove white spaces at the beginning and the end of the employee name and convert it to the upper case.\n",
    "- For the salary, use casting methods to convert the value to integer.\n",
    "- Print the information in the following format: **name EMPLOYEE_NAME, salary VALUE**\n",
    "- *OPTIONAL BONUS (10 points)*: Apply your solution efficiently without declaring new variables."
   ]
  },
  {
   "cell_type": "code",
   "execution_count": 26,
   "id": "b8f6d98e",
   "metadata": {},
   "outputs": [
    {
     "name": "stdout",
     "output_type": "stream",
     "text": [
      "name JOHN SMITH, salary 95228\n"
     ]
    }
   ],
   "source": [
    "name = '  '\n",
    "name += 'John Smith'\n",
    "for i in range(10):\n",
    "    name += ' '\n",
    "salary = 10 ** 4 * 9522875000 * 1.0e-9\n",
    "\n",
    "# Begin your solution below this line\n",
    "\n",
    "name = name.upper()\n",
    "name = name.strip()\n",
    "salary = int(salary)\n",
    "salary = str(salary)\n",
    "\n",
    "print('name ' + name + ', salary ' + salary)\n",
    "\n",
    "# End your solution, do not change anything below this line\n",
    "\n",
    "# Your code should print: name JOHN SMITH, salary 95228"
   ]
  },
  {
   "attachments": {},
   "cell_type": "markdown",
   "id": "679c3533",
   "metadata": {},
   "source": [
    "### Part C (Lists, Tuples, Sets), 25 points\n",
    "\n",
    "In a car dealer shop there is a long list of vehicles of different brands in their enventory. A group of 17 vehicles have been sold, that are, in sequence, the third car in the list until the 20<sup>th</sup>. The store manager still needs to know how many distinct car brands were in the sold vehicles but he is lazy to do the count.\n",
    "\n",
    "- Use what you learned in Python to print the number that the manager wants using the list of vehicles given below.\n",
    "- Print the brand name of the vehicle that resides exactly in the middle of the original list, knowing that the number of items in the list is an odd number. Hint: use the *len()* method to solve this dynamically."
   ]
  },
  {
   "cell_type": "code",
   "execution_count": 2,
   "id": "9e1a67da",
   "metadata": {},
   "outputs": [
    {
     "name": "stdout",
     "output_type": "stream",
     "text": [
      "len 17\n",
      "7\n",
      "101\n",
      "Rivian\n",
      "Rivian\n"
     ]
    }
   ],
   "source": [
    "cars = ['Honda','Dodge','Toyota','Mazda','Audi','Mitsubishi','Acura','Acura','Mazda','Jeep','Kia','Toyota','Kia','Mitsubishi','Audi','Kia','Toyota','Acura','Mitsubishi','Toyota','Tesla','Dodge','Honda','Audi','Tesla','Mitsubishi','Audi','Mazda','Mazda','Honda','Toyota','Toyota','Mazda','Kia','Tesla','Toyota','Mitsubishi','Kia','Tesla','Dodge','Tesla','Mazda','Jeep','Kia','Acura','Honda','Rivian','Toyota','Honda','Honda','Rivian','Rivian','Mazda','Rivian','Kia','Acura','Toyota','Acura','Kia','Toyota','Rivian','Mitsubishi','Toyota','Toyota','Tesla','Kia','Jeep','Mazda','Acura','Mazda','Mitsubishi','Honda','Dodge','Jeep','Audi','Acura','Honda','Kia','Tesla','Jeep','Toyota','Tesla','Mazda','Honda','Tesla','Audi','Tesla','Jeep','Acura','Mazda','Honda','Tesla','Jeep','Mitsubishi','Rivian','Honda','Mitsubishi','Toyota','Mitsubishi','Dodge','Dodge',]\n",
    "\n",
    "\n",
    "# Begin your solution below this line\n",
    "print('len', len(cars[2:19]))\n",
    "cars_set = set(cars[2:19])\n",
    "print(len(cars_set))\n",
    "print(len(cars))\n",
    "print(cars[int(len(cars)/2)])\n",
    "print(cars[ len(cars) // 2 ])\n",
    "# End your solution, do not change anything below this line\n"
   ]
  },
  {
   "attachments": {},
   "cell_type": "markdown",
   "id": "e6d5d867",
   "metadata": {},
   "source": [
    "### Part D (Dictionary), 25 points\n",
    "\n",
    "In Python, characters in a string can be accessed or sliced in the same way we access or slice a list.\n",
    "\n",
    "In the below student ID, student name dictionary, replace each name with the first three characters of the name only using what you learned about list slicing. Then print the dictionary."
   ]
  },
  {
   "cell_type": "code",
   "execution_count": 28,
   "id": "93b774cc",
   "metadata": {},
   "outputs": [
    {
     "name": "stdout",
     "output_type": "stream",
     "text": [
      "{'st1048': 'Bow', 'st1049': 'Kyl', 'st1053': 'Fra'}\n"
     ]
    }
   ],
   "source": [
    "students_dict = {\n",
    "    'st1048' : 'Bowen Higgins',\n",
    "    'st1049' : 'Kylan Gentry',\n",
    "    'st1053' : 'Franklin Sierra'\n",
    "}\n",
    "\n",
    "# Begin your solution below this line\n",
    "\n",
    "students_dict['st1048'] = students_dict['st1048'][0:3]\n",
    "students_dict['st1049'] = students_dict['st1049'][0:3]\n",
    "students_dict['st1053'] = students_dict['st1053'][0:3]\n",
    "\n",
    "print(students_dict)\n",
    "\n",
    "# End your solution, do not change anything below this line\n"
   ]
  },
  {
   "cell_type": "code",
   "execution_count": null,
   "id": "5eb5a71b",
   "metadata": {},
   "outputs": [],
   "source": []
  }
 ],
 "metadata": {
  "kernelspec": {
   "display_name": "Python 3 (ipykernel)",
   "language": "python",
   "name": "python3"
  },
  "language_info": {
   "codemirror_mode": {
    "name": "ipython",
    "version": 3
   },
   "file_extension": ".py",
   "mimetype": "text/x-python",
   "name": "python",
   "nbconvert_exporter": "python",
   "pygments_lexer": "ipython3",
   "version": "3.11.4"
  }
 },
 "nbformat": 4,
 "nbformat_minor": 5
}
