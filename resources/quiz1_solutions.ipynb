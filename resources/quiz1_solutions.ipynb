{
 "cells": [
  {
   "attachments": {},
   "cell_type": "markdown",
   "metadata": {},
   "source": [
    "# Quiz 1 Solutions"
   ]
  },
  {
   "attachments": {},
   "cell_type": "markdown",
   "metadata": {},
   "source": [
    "## Question 7 - Correct the code"
   ]
  },
  {
   "cell_type": "code",
   "execution_count": null,
   "metadata": {},
   "outputs": [],
   "source": [
    "# use == instead of = when checking equality\n",
    "if x % 2 == 0 and x > 3:\n",
    "    # for header needs a colon\n",
    "    for i in range(x):\n",
    "        print(x)\n"
   ]
  },
  {
   "attachments": {},
   "cell_type": "markdown",
   "metadata": {},
   "source": [
    "## Question 10"
   ]
  },
  {
   "cell_type": "code",
   "execution_count": 7,
   "metadata": {},
   "outputs": [
    {
     "name": "stdout",
     "output_type": "stream",
     "text": [
      "0 h\n",
      "1 i\n",
      "2 j\n",
      "3 k\n",
      "4 l\n",
      "5 m\n"
     ]
    }
   ],
   "source": [
    "# the list is provided\n",
    "x = ['h', 'i', 'j', 'k', 'l', 'm']\n",
    "\n",
    "# declare an index iterator variable\n",
    "i = 0\n",
    "\n",
    "# the header condition should be keeping i within the range of the item indexes\n",
    "while i < len(x):\n",
    "    print(i, x[i])\n",
    "    # do not forget to increment i or this loop will run forever\n",
    "    i += 1\n",
    "\n"
   ]
  },
  {
   "attachments": {},
   "cell_type": "markdown",
   "metadata": {},
   "source": [
    "## Question 11\n",
    "output:\n",
    "\n",
    "Georgia\n",
    "\n",
    "Hawaii"
   ]
  },
  {
   "attachments": {},
   "cell_type": "markdown",
   "metadata": {},
   "source": [
    "## Question 13"
   ]
  },
  {
   "cell_type": "code",
   "execution_count": 8,
   "metadata": {},
   "outputs": [
    {
     "name": "stdout",
     "output_type": "stream",
     "text": [
      "[10, 13, 16, 19]\n"
     ]
    }
   ],
   "source": [
    "# we need an empty list\n",
    "x=list()\n",
    "\n",
    "# an iterator but starts from 7\n",
    "i=7\n",
    "\n",
    "# i should not exceed 17, so we use the condition below in the header\n",
    "while i<18:\n",
    "   # add the value to the list\n",
    "   x.append(i+3)\n",
    "   # do the correct increment\n",
    "   i += 3\n",
    "\n",
    "print(x)"
   ]
  }
 ],
 "metadata": {
  "kernelspec": {
   "display_name": "relations",
   "language": "python",
   "name": "python3"
  },
  "language_info": {
   "codemirror_mode": {
    "name": "ipython",
    "version": 3
   },
   "file_extension": ".py",
   "mimetype": "text/x-python",
   "name": "python",
   "nbconvert_exporter": "python",
   "pygments_lexer": "ipython3",
   "version": "3.11.4"
  },
  "orig_nbformat": 4
 },
 "nbformat": 4,
 "nbformat_minor": 2
}
