{
 "cells": [
  {
   "cell_type": "code",
   "execution_count": 11,
   "id": "afc8e35c",
   "metadata": {},
   "outputs": [
    {
     "name": "stdout",
     "output_type": "stream",
     "text": [
      "-35.0\n"
     ]
    }
   ],
   "source": [
    "# find the value of a\n",
    "x = 12\n",
    "y = 30\n",
    "z = 6\n",
    "b = 3\n",
    "a = 1 +  z / b * (x - y)\n",
    "print(a)"
   ]
  },
  {
   "cell_type": "code",
   "execution_count": 4,
   "id": "bd792076",
   "metadata": {},
   "outputs": [
    {
     "name": "stdout",
     "output_type": "stream",
     "text": [
      "-9.0\n"
     ]
    }
   ],
   "source": [
    "# find the value of a\n",
    "a = 2\n",
    "\n",
    "b = 3\n",
    "\n",
    "a -= a ** b / 2 + 7\n",
    "\n",
    "print(a)"
   ]
  },
  {
   "cell_type": "code",
   "execution_count": null,
   "id": "107ffa34",
   "metadata": {},
   "outputs": [],
   "source": [
    "a = list(range(10))\n",
    "\n",
    "# slice a to get the following output\n",
    "\n",
    "# [2, 3, 4, 5, 6, 7]"
   ]
  },
  {
   "cell_type": "code",
   "execution_count": null,
   "id": "9054d552",
   "metadata": {},
   "outputs": [],
   "source": [
    "a = “Stuttgart”\n",
    "# slice a to get the following output\n",
    "\n",
    "# ‘uttga’"
   ]
  },
  {
   "cell_type": "code",
   "execution_count": null,
   "id": "7cd99913",
   "metadata": {},
   "outputs": [],
   "source": [
    "# write Python code to find the sum of all values that are less than 10 in a dictionary."
   ]
  }
 ],
 "metadata": {
  "kernelspec": {
   "display_name": "Python 3 (ipykernel)",
   "language": "python",
   "name": "python3"
  },
  "language_info": {
   "codemirror_mode": {
    "name": "ipython",
    "version": 3
   },
   "file_extension": ".py",
   "mimetype": "text/x-python",
   "name": "python",
   "nbconvert_exporter": "python",
   "pygments_lexer": "ipython3",
   "version": "3.11.4"
  }
 },
 "nbformat": 4,
 "nbformat_minor": 5
}
