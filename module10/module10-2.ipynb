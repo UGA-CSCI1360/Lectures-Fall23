{
 "cells": [
  {
   "cell_type": "markdown",
   "id": "be7df6f1",
   "metadata": {
    "slideshow": {
     "slide_type": "slide"
    }
   },
   "source": [
    "# Module 10: Data Formats, Transformation and Preprocessing\n",
    "\n",
    "## Lecture 2: Further Data Preprocessing\n",
    "\n",
    "CSCI 1360: Foundations for Informatics and Analytics"
   ]
  },
  {
   "cell_type": "markdown",
   "id": "121f8b9e",
   "metadata": {
    "slideshow": {
     "slide_type": "slide"
    }
   },
   "source": [
    "## Overview and Objectives\n",
    "\n",
    "In this lecture we will learn the patterns of missing values instances in datasets and types of solutions to tackle this problem. By the end of this lecture you should be able:"
   ]
  },
  {
   "cell_type": "markdown",
   "id": "e34dd568",
   "metadata": {
    "slideshow": {
     "slide_type": "-"
    }
   },
   "source": [
    "* Distinguish between patterns of missing values instances in a dataset.\n",
    "\n",
    "* Select the proper imputation strategy for the missed values in a dataset.\n",
    "\n",
    "* Know techniquies to handle imbalanced data.\n",
    "\n",
    "* Understand the advantages of Dimensionality Reduction.\n",
    "\n"
   ]
  },
  {
   "cell_type": "markdown",
   "id": "726a75a9",
   "metadata": {
    "slideshow": {
     "slide_type": "slide"
    }
   },
   "source": [
    "### Part A: Imputation of missing values\n",
    "\n",
    "* Many real world datasets contain missing values for various reasons.\n",
    "\n",
    "* A pattern of the missing values could help in determining the best strategy to handle that.\n",
    "\n",
    "* Missing values could be focused in a single or multiple columns. A signle row or multiple ones could have missing values also.\n",
    "    "
   ]
  },
  {
   "cell_type": "markdown",
   "id": "fc14384e",
   "metadata": {
    "slideshow": {
     "slide_type": "fragment"
    }
   },
   "source": [
    "* Discarding rows or columns from a dataset due to the missing values leads to losing data.\n",
    "\n",
    "* Constant values or values from similar data could be used to impute missed values."
   ]
  },
  {
   "cell_type": "markdown",
   "id": "9a79989b",
   "metadata": {
    "slideshow": {
     "slide_type": "slide"
    }
   },
   "source": [
    "**Column/Feature Missed values**"
   ]
  },
  {
   "cell_type": "code",
   "execution_count": 12,
   "id": "76b49649",
   "metadata": {
    "scrolled": true,
    "slideshow": {
     "slide_type": "-"
    }
   },
   "outputs": [
    {
     "data": {
      "text/html": [
       "<div>\n",
       "<style scoped>\n",
       "    .dataframe tbody tr th:only-of-type {\n",
       "        vertical-align: middle;\n",
       "    }\n",
       "\n",
       "    .dataframe tbody tr th {\n",
       "        vertical-align: top;\n",
       "    }\n",
       "\n",
       "    .dataframe thead th {\n",
       "        text-align: right;\n",
       "    }\n",
       "</style>\n",
       "<table border=\"1\" class=\"dataframe\">\n",
       "  <thead>\n",
       "    <tr style=\"text-align: right;\">\n",
       "      <th></th>\n",
       "      <th>CASENUM</th>\n",
       "      <th>VE_FORMS</th>\n",
       "      <th>VEH_NO</th>\n",
       "      <th>PER_NO</th>\n",
       "      <th>REGION</th>\n",
       "      <th>PSU</th>\n",
       "      <th>PJ</th>\n",
       "      <th>PSU_VAR</th>\n",
       "      <th>URBANICITY</th>\n",
       "      <th>STRATUM</th>\n",
       "      <th>...</th>\n",
       "      <th>P_SF3</th>\n",
       "      <th>LOCATION</th>\n",
       "      <th>SEX_IM</th>\n",
       "      <th>INJSEV_IM</th>\n",
       "      <th>EJECT_IM</th>\n",
       "      <th>PERALCH_IM</th>\n",
       "      <th>SEAT_IM</th>\n",
       "      <th>AGE_IM</th>\n",
       "      <th>PSUSTRAT</th>\n",
       "      <th>WEIGHT</th>\n",
       "    </tr>\n",
       "  </thead>\n",
       "  <tbody>\n",
       "    <tr>\n",
       "      <th>0</th>\n",
       "      <td>201800381338</td>\n",
       "      <td>4</td>\n",
       "      <td>1</td>\n",
       "      <td>1</td>\n",
       "      <td>4</td>\n",
       "      <td>56</td>\n",
       "      <td>208</td>\n",
       "      <td>208</td>\n",
       "      <td>1</td>\n",
       "      <td>9.0</td>\n",
       "      <td>...</td>\n",
       "      <td>0</td>\n",
       "      <td>0</td>\n",
       "      <td>1</td>\n",
       "      <td>0</td>\n",
       "      <td>0</td>\n",
       "      <td>0</td>\n",
       "      <td>11</td>\n",
       "      <td>48</td>\n",
       "      <td>20</td>\n",
       "      <td>187.193308</td>\n",
       "    </tr>\n",
       "    <tr>\n",
       "      <th>1</th>\n",
       "      <td>201800381338</td>\n",
       "      <td>4</td>\n",
       "      <td>2</td>\n",
       "      <td>1</td>\n",
       "      <td>4</td>\n",
       "      <td>56</td>\n",
       "      <td>208</td>\n",
       "      <td>208</td>\n",
       "      <td>1</td>\n",
       "      <td>9.0</td>\n",
       "      <td>...</td>\n",
       "      <td>0</td>\n",
       "      <td>0</td>\n",
       "      <td>2</td>\n",
       "      <td>0</td>\n",
       "      <td>0</td>\n",
       "      <td>0</td>\n",
       "      <td>11</td>\n",
       "      <td>43</td>\n",
       "      <td>20</td>\n",
       "      <td>187.193308</td>\n",
       "    </tr>\n",
       "    <tr>\n",
       "      <th>2</th>\n",
       "      <td>201800381338</td>\n",
       "      <td>4</td>\n",
       "      <td>3</td>\n",
       "      <td>1</td>\n",
       "      <td>4</td>\n",
       "      <td>56</td>\n",
       "      <td>208</td>\n",
       "      <td>208</td>\n",
       "      <td>1</td>\n",
       "      <td>NaN</td>\n",
       "      <td>...</td>\n",
       "      <td>0</td>\n",
       "      <td>0</td>\n",
       "      <td>1</td>\n",
       "      <td>0</td>\n",
       "      <td>0</td>\n",
       "      <td>0</td>\n",
       "      <td>11</td>\n",
       "      <td>37</td>\n",
       "      <td>20</td>\n",
       "      <td>187.193308</td>\n",
       "    </tr>\n",
       "    <tr>\n",
       "      <th>3</th>\n",
       "      <td>201800381338</td>\n",
       "      <td>4</td>\n",
       "      <td>4</td>\n",
       "      <td>1</td>\n",
       "      <td>4</td>\n",
       "      <td>56</td>\n",
       "      <td>208</td>\n",
       "      <td>208</td>\n",
       "      <td>1</td>\n",
       "      <td>9.0</td>\n",
       "      <td>...</td>\n",
       "      <td>0</td>\n",
       "      <td>0</td>\n",
       "      <td>1</td>\n",
       "      <td>0</td>\n",
       "      <td>0</td>\n",
       "      <td>0</td>\n",
       "      <td>11</td>\n",
       "      <td>67</td>\n",
       "      <td>20</td>\n",
       "      <td>187.193308</td>\n",
       "    </tr>\n",
       "    <tr>\n",
       "      <th>4</th>\n",
       "      <td>201800381366</td>\n",
       "      <td>3</td>\n",
       "      <td>1</td>\n",
       "      <td>1</td>\n",
       "      <td>4</td>\n",
       "      <td>56</td>\n",
       "      <td>214</td>\n",
       "      <td>214</td>\n",
       "      <td>1</td>\n",
       "      <td>7.0</td>\n",
       "      <td>...</td>\n",
       "      <td>0</td>\n",
       "      <td>0</td>\n",
       "      <td>2</td>\n",
       "      <td>1</td>\n",
       "      <td>0</td>\n",
       "      <td>0</td>\n",
       "      <td>11</td>\n",
       "      <td>32</td>\n",
       "      <td>20</td>\n",
       "      <td>149.787336</td>\n",
       "    </tr>\n",
       "    <tr>\n",
       "      <th>5</th>\n",
       "      <td>201800381366</td>\n",
       "      <td>3</td>\n",
       "      <td>2</td>\n",
       "      <td>1</td>\n",
       "      <td>4</td>\n",
       "      <td>56</td>\n",
       "      <td>214</td>\n",
       "      <td>214</td>\n",
       "      <td>1</td>\n",
       "      <td>7.0</td>\n",
       "      <td>...</td>\n",
       "      <td>0</td>\n",
       "      <td>0</td>\n",
       "      <td>2</td>\n",
       "      <td>0</td>\n",
       "      <td>0</td>\n",
       "      <td>0</td>\n",
       "      <td>11</td>\n",
       "      <td>46</td>\n",
       "      <td>20</td>\n",
       "      <td>149.787336</td>\n",
       "    </tr>\n",
       "    <tr>\n",
       "      <th>6</th>\n",
       "      <td>201800381366</td>\n",
       "      <td>3</td>\n",
       "      <td>3</td>\n",
       "      <td>1</td>\n",
       "      <td>4</td>\n",
       "      <td>56</td>\n",
       "      <td>214</td>\n",
       "      <td>214</td>\n",
       "      <td>1</td>\n",
       "      <td>NaN</td>\n",
       "      <td>...</td>\n",
       "      <td>0</td>\n",
       "      <td>0</td>\n",
       "      <td>1</td>\n",
       "      <td>0</td>\n",
       "      <td>0</td>\n",
       "      <td>0</td>\n",
       "      <td>11</td>\n",
       "      <td>52</td>\n",
       "      <td>20</td>\n",
       "      <td>149.787336</td>\n",
       "    </tr>\n",
       "    <tr>\n",
       "      <th>7</th>\n",
       "      <td>201800381374</td>\n",
       "      <td>2</td>\n",
       "      <td>1</td>\n",
       "      <td>1</td>\n",
       "      <td>4</td>\n",
       "      <td>56</td>\n",
       "      <td>214</td>\n",
       "      <td>214</td>\n",
       "      <td>1</td>\n",
       "      <td>NaN</td>\n",
       "      <td>...</td>\n",
       "      <td>0</td>\n",
       "      <td>0</td>\n",
       "      <td>1</td>\n",
       "      <td>1</td>\n",
       "      <td>0</td>\n",
       "      <td>0</td>\n",
       "      <td>11</td>\n",
       "      <td>34</td>\n",
       "      <td>20</td>\n",
       "      <td>76.421258</td>\n",
       "    </tr>\n",
       "    <tr>\n",
       "      <th>8</th>\n",
       "      <td>201800381374</td>\n",
       "      <td>2</td>\n",
       "      <td>1</td>\n",
       "      <td>2</td>\n",
       "      <td>4</td>\n",
       "      <td>56</td>\n",
       "      <td>214</td>\n",
       "      <td>214</td>\n",
       "      <td>1</td>\n",
       "      <td>6.0</td>\n",
       "      <td>...</td>\n",
       "      <td>0</td>\n",
       "      <td>0</td>\n",
       "      <td>1</td>\n",
       "      <td>0</td>\n",
       "      <td>0</td>\n",
       "      <td>0</td>\n",
       "      <td>13</td>\n",
       "      <td>24</td>\n",
       "      <td>20</td>\n",
       "      <td>76.421258</td>\n",
       "    </tr>\n",
       "    <tr>\n",
       "      <th>9</th>\n",
       "      <td>201800381374</td>\n",
       "      <td>2</td>\n",
       "      <td>2</td>\n",
       "      <td>1</td>\n",
       "      <td>4</td>\n",
       "      <td>56</td>\n",
       "      <td>214</td>\n",
       "      <td>214</td>\n",
       "      <td>1</td>\n",
       "      <td>6.0</td>\n",
       "      <td>...</td>\n",
       "      <td>0</td>\n",
       "      <td>0</td>\n",
       "      <td>1</td>\n",
       "      <td>1</td>\n",
       "      <td>0</td>\n",
       "      <td>0</td>\n",
       "      <td>11</td>\n",
       "      <td>31</td>\n",
       "      <td>20</td>\n",
       "      <td>76.421258</td>\n",
       "    </tr>\n",
       "  </tbody>\n",
       "</table>\n",
       "<p>10 rows × 54 columns</p>\n",
       "</div>"
      ],
      "text/plain": [
       "        CASENUM  VE_FORMS  VEH_NO  PER_NO  REGION  PSU   PJ  PSU_VAR  \\\n",
       "0  201800381338         4       1       1       4   56  208      208   \n",
       "1  201800381338         4       2       1       4   56  208      208   \n",
       "2  201800381338         4       3       1       4   56  208      208   \n",
       "3  201800381338         4       4       1       4   56  208      208   \n",
       "4  201800381366         3       1       1       4   56  214      214   \n",
       "5  201800381366         3       2       1       4   56  214      214   \n",
       "6  201800381366         3       3       1       4   56  214      214   \n",
       "7  201800381374         2       1       1       4   56  214      214   \n",
       "8  201800381374         2       1       2       4   56  214      214   \n",
       "9  201800381374         2       2       1       4   56  214      214   \n",
       "\n",
       "   URBANICITY  STRATUM  ...  P_SF3  LOCATION  SEX_IM  INJSEV_IM  EJECT_IM  \\\n",
       "0           1      9.0  ...      0         0       1          0         0   \n",
       "1           1      9.0  ...      0         0       2          0         0   \n",
       "2           1      NaN  ...      0         0       1          0         0   \n",
       "3           1      9.0  ...      0         0       1          0         0   \n",
       "4           1      7.0  ...      0         0       2          1         0   \n",
       "5           1      7.0  ...      0         0       2          0         0   \n",
       "6           1      NaN  ...      0         0       1          0         0   \n",
       "7           1      NaN  ...      0         0       1          1         0   \n",
       "8           1      6.0  ...      0         0       1          0         0   \n",
       "9           1      6.0  ...      0         0       1          1         0   \n",
       "\n",
       "   PERALCH_IM  SEAT_IM  AGE_IM  PSUSTRAT      WEIGHT  \n",
       "0           0       11      48        20  187.193308  \n",
       "1           0       11      43        20  187.193308  \n",
       "2           0       11      37        20  187.193308  \n",
       "3           0       11      67        20  187.193308  \n",
       "4           0       11      32        20  149.787336  \n",
       "5           0       11      46        20  149.787336  \n",
       "6           0       11      52        20  149.787336  \n",
       "7           0       11      34        20   76.421258  \n",
       "8           0       13      24        20   76.421258  \n",
       "9           0       11      31        20   76.421258  \n",
       "\n",
       "[10 rows x 54 columns]"
      ]
     },
     "execution_count": 12,
     "metadata": {},
     "output_type": "execute_result"
    }
   ],
   "source": [
    "import pandas as pd\n",
    "\n",
    "df = pd.read_csv('files/accidents_col.csv')\n",
    "\n",
    "df.head(10)"
   ]
  },
  {
   "cell_type": "markdown",
   "id": "fa66eb6f",
   "metadata": {
    "slideshow": {
     "slide_type": "slide"
    }
   },
   "source": [
    "**Row Missed Values**"
   ]
  },
  {
   "cell_type": "code",
   "execution_count": 13,
   "id": "c803327b",
   "metadata": {
    "slideshow": {
     "slide_type": "-"
    }
   },
   "outputs": [
    {
     "data": {
      "text/html": [
       "<div>\n",
       "<style scoped>\n",
       "    .dataframe tbody tr th:only-of-type {\n",
       "        vertical-align: middle;\n",
       "    }\n",
       "\n",
       "    .dataframe tbody tr th {\n",
       "        vertical-align: top;\n",
       "    }\n",
       "\n",
       "    .dataframe thead th {\n",
       "        text-align: right;\n",
       "    }\n",
       "</style>\n",
       "<table border=\"1\" class=\"dataframe\">\n",
       "  <thead>\n",
       "    <tr style=\"text-align: right;\">\n",
       "      <th></th>\n",
       "      <th>CASENUM</th>\n",
       "      <th>VE_FORMS</th>\n",
       "      <th>VEH_NO</th>\n",
       "      <th>PER_NO</th>\n",
       "      <th>REGION</th>\n",
       "      <th>PSU</th>\n",
       "      <th>PJ</th>\n",
       "      <th>PSU_VAR</th>\n",
       "      <th>URBANICITY</th>\n",
       "      <th>STRATUM</th>\n",
       "      <th>...</th>\n",
       "      <th>P_SF3</th>\n",
       "      <th>LOCATION</th>\n",
       "      <th>SEX_IM</th>\n",
       "      <th>INJSEV_IM</th>\n",
       "      <th>EJECT_IM</th>\n",
       "      <th>PERALCH_IM</th>\n",
       "      <th>SEAT_IM</th>\n",
       "      <th>AGE_IM</th>\n",
       "      <th>PSUSTRAT</th>\n",
       "      <th>WEIGHT</th>\n",
       "    </tr>\n",
       "  </thead>\n",
       "  <tbody>\n",
       "    <tr>\n",
       "      <th>0</th>\n",
       "      <td>201800381338</td>\n",
       "      <td>4.0</td>\n",
       "      <td>1</td>\n",
       "      <td>1</td>\n",
       "      <td>4.0</td>\n",
       "      <td>56</td>\n",
       "      <td>208</td>\n",
       "      <td>208.0</td>\n",
       "      <td>1.0</td>\n",
       "      <td>9.0</td>\n",
       "      <td>...</td>\n",
       "      <td>0</td>\n",
       "      <td>0</td>\n",
       "      <td>1</td>\n",
       "      <td>0</td>\n",
       "      <td>0</td>\n",
       "      <td>0</td>\n",
       "      <td>11</td>\n",
       "      <td>48</td>\n",
       "      <td>20</td>\n",
       "      <td>187.193308</td>\n",
       "    </tr>\n",
       "    <tr>\n",
       "      <th>1</th>\n",
       "      <td>201800381338</td>\n",
       "      <td>NaN</td>\n",
       "      <td>2</td>\n",
       "      <td>1</td>\n",
       "      <td>NaN</td>\n",
       "      <td>56</td>\n",
       "      <td>208</td>\n",
       "      <td>NaN</td>\n",
       "      <td>NaN</td>\n",
       "      <td>9.0</td>\n",
       "      <td>...</td>\n",
       "      <td>0</td>\n",
       "      <td>0</td>\n",
       "      <td>2</td>\n",
       "      <td>0</td>\n",
       "      <td>0</td>\n",
       "      <td>0</td>\n",
       "      <td>11</td>\n",
       "      <td>43</td>\n",
       "      <td>20</td>\n",
       "      <td>187.193308</td>\n",
       "    </tr>\n",
       "    <tr>\n",
       "      <th>2</th>\n",
       "      <td>201800381338</td>\n",
       "      <td>4.0</td>\n",
       "      <td>3</td>\n",
       "      <td>1</td>\n",
       "      <td>4.0</td>\n",
       "      <td>56</td>\n",
       "      <td>208</td>\n",
       "      <td>208.0</td>\n",
       "      <td>1.0</td>\n",
       "      <td>NaN</td>\n",
       "      <td>...</td>\n",
       "      <td>0</td>\n",
       "      <td>0</td>\n",
       "      <td>1</td>\n",
       "      <td>0</td>\n",
       "      <td>0</td>\n",
       "      <td>0</td>\n",
       "      <td>11</td>\n",
       "      <td>37</td>\n",
       "      <td>20</td>\n",
       "      <td>187.193308</td>\n",
       "    </tr>\n",
       "    <tr>\n",
       "      <th>3</th>\n",
       "      <td>201800381338</td>\n",
       "      <td>4.0</td>\n",
       "      <td>4</td>\n",
       "      <td>1</td>\n",
       "      <td>4.0</td>\n",
       "      <td>56</td>\n",
       "      <td>208</td>\n",
       "      <td>208.0</td>\n",
       "      <td>1.0</td>\n",
       "      <td>9.0</td>\n",
       "      <td>...</td>\n",
       "      <td>0</td>\n",
       "      <td>0</td>\n",
       "      <td>1</td>\n",
       "      <td>0</td>\n",
       "      <td>0</td>\n",
       "      <td>0</td>\n",
       "      <td>11</td>\n",
       "      <td>67</td>\n",
       "      <td>20</td>\n",
       "      <td>187.193308</td>\n",
       "    </tr>\n",
       "    <tr>\n",
       "      <th>4</th>\n",
       "      <td>201800381366</td>\n",
       "      <td>3.0</td>\n",
       "      <td>1</td>\n",
       "      <td>1</td>\n",
       "      <td>4.0</td>\n",
       "      <td>56</td>\n",
       "      <td>214</td>\n",
       "      <td>214.0</td>\n",
       "      <td>1.0</td>\n",
       "      <td>7.0</td>\n",
       "      <td>...</td>\n",
       "      <td>0</td>\n",
       "      <td>0</td>\n",
       "      <td>2</td>\n",
       "      <td>1</td>\n",
       "      <td>0</td>\n",
       "      <td>0</td>\n",
       "      <td>11</td>\n",
       "      <td>32</td>\n",
       "      <td>20</td>\n",
       "      <td>149.787336</td>\n",
       "    </tr>\n",
       "  </tbody>\n",
       "</table>\n",
       "<p>5 rows × 54 columns</p>\n",
       "</div>"
      ],
      "text/plain": [
       "        CASENUM  VE_FORMS  VEH_NO  PER_NO  REGION  PSU   PJ  PSU_VAR  \\\n",
       "0  201800381338       4.0       1       1     4.0   56  208    208.0   \n",
       "1  201800381338       NaN       2       1     NaN   56  208      NaN   \n",
       "2  201800381338       4.0       3       1     4.0   56  208    208.0   \n",
       "3  201800381338       4.0       4       1     4.0   56  208    208.0   \n",
       "4  201800381366       3.0       1       1     4.0   56  214    214.0   \n",
       "\n",
       "   URBANICITY  STRATUM  ...  P_SF3  LOCATION  SEX_IM  INJSEV_IM  EJECT_IM  \\\n",
       "0         1.0      9.0  ...      0         0       1          0         0   \n",
       "1         NaN      9.0  ...      0         0       2          0         0   \n",
       "2         1.0      NaN  ...      0         0       1          0         0   \n",
       "3         1.0      9.0  ...      0         0       1          0         0   \n",
       "4         1.0      7.0  ...      0         0       2          1         0   \n",
       "\n",
       "   PERALCH_IM  SEAT_IM  AGE_IM  PSUSTRAT      WEIGHT  \n",
       "0           0       11      48        20  187.193308  \n",
       "1           0       11      43        20  187.193308  \n",
       "2           0       11      37        20  187.193308  \n",
       "3           0       11      67        20  187.193308  \n",
       "4           0       11      32        20  149.787336  \n",
       "\n",
       "[5 rows x 54 columns]"
      ]
     },
     "execution_count": 13,
     "metadata": {},
     "output_type": "execute_result"
    }
   ],
   "source": [
    "import pandas as pd\n",
    "\n",
    "df = pd.read_csv('files/accidents_row.csv')\n",
    "\n",
    "df.head(5)"
   ]
  },
  {
   "cell_type": "markdown",
   "id": "43b90bf3",
   "metadata": {
    "slideshow": {
     "slide_type": "slide"
    }
   },
   "source": [
    "#### Univariate feature imputation\n",
    "\n",
    "Missing values can be imputed with a provided constant value, or using the statistics (mean, median or most frequent-Mode ) of each column in which the missing values are located."
   ]
  },
  {
   "cell_type": "code",
   "execution_count": 1,
   "id": "b57f5099",
   "metadata": {
    "scrolled": true
   },
   "outputs": [
    {
     "name": "stdout",
     "output_type": "stream",
     "text": [
      "[[3.25 2.  ]\n",
      " [6.   3.25]\n",
      " [7.   3.25]]\n"
     ]
    }
   ],
   "source": [
    "import numpy as np\n",
    "from sklearn.impute import SimpleImputer\n",
    "imp = SimpleImputer(missing_values=np.nan, strategy='mean')\n",
    "imp.fit([[1, 2],[1, 3], [4, 2], [7, 6]])\n",
    "\n",
    "X = [[np.nan, 2], [6, np.nan], [7, np.nan]]\n",
    "print(imp.transform(X))"
   ]
  },
  {
   "cell_type": "markdown",
   "id": "80d7f50a",
   "metadata": {
    "slideshow": {
     "slide_type": "slide"
    }
   },
   "source": [
    "#### Multivariate feature imputation\n",
    "\n",
    "This algorithm learns a function from data observation and use it to estimate the values for missing ones.\n",
    "\n",
    "* `IterativeImputer` in scikit-learn is still experimental."
   ]
  },
  {
   "cell_type": "code",
   "execution_count": 15,
   "id": "5dd56c86",
   "metadata": {},
   "outputs": [
    {
     "name": "stdout",
     "output_type": "stream",
     "text": [
      "[[ 1.  2.]\n",
      " [ 6. 12.]\n",
      " [ 3.  6.]]\n"
     ]
    }
   ],
   "source": [
    "import numpy as np\n",
    "from sklearn.experimental import enable_iterative_imputer\n",
    "from sklearn.impute import IterativeImputer\n",
    "imp = IterativeImputer(max_iter=10, random_state=0)\n",
    "imp.fit([[1, 2], [3, 6], [4, 8], [np.nan, 3], [7, np.nan]])\n",
    "\n",
    "X_test = [[np.nan, 2], [6, np.nan], [np.nan, 6]]\n",
    "# the model learns that the second feature is double the first\n",
    "print(np.round(imp.transform(X_test)))"
   ]
  },
  {
   "cell_type": "markdown",
   "id": "87b1e132",
   "metadata": {
    "slideshow": {
     "slide_type": "slide"
    }
   },
   "source": [
    "**Nearest neighbors imputation**\n",
    "\n",
    "Using [k-Nearest Neighbors](https://en.wikipedia.org/wiki/K-nearest_neighbors_algorithm) algorithm, the `KNNImputer` class in scikit-learn can fill missing values."
   ]
  },
  {
   "attachments": {
    "image.png": {
     "image/png": "[encoded data removed]"
    }
   },
   "cell_type": "markdown",
   "id": "ad340097",
   "metadata": {},
   "source": [
    "![image.png](attachment:image.png)\n",
    "\n",
    "_Image credit: jcchouinard.com_"
   ]
  },
  {
   "cell_type": "code",
   "execution_count": 16,
   "id": "07649f32",
   "metadata": {
    "slideshow": {
     "slide_type": "slide"
    }
   },
   "outputs": [
    {
     "data": {
      "text/plain": [
       "array([[1. , 2. , 4. ],\n",
       "       [3. , 4. , 3. ],\n",
       "       [5.5, 6. , 5. ],\n",
       "       [8. , 8. , 7. ]])"
      ]
     },
     "execution_count": 16,
     "metadata": {},
     "output_type": "execute_result"
    }
   ],
   "source": [
    "import numpy as np\n",
    "from sklearn.impute import KNNImputer\n",
    "nan = np.nan\n",
    "X = [[1, 2, nan], \n",
    "     [3, 4, 3],\n",
    "     [nan, 6, 5],\n",
    "     [8, 8, 7]]\n",
    "imputer = KNNImputer(n_neighbors=2, weights=\"uniform\")\n",
    "imputer.fit_transform(X)"
   ]
  },
  {
   "cell_type": "markdown",
   "id": "062dab74",
   "metadata": {
    "slideshow": {
     "slide_type": "slide"
    }
   },
   "source": [
    "#### Imbalanced Data\n",
    "\n",
    "Depending on the objective of the data analysis task, it could be critical that your work detect samples with minority labels. To guarantee that minor labels get noticed you can follow the following stratigies:\n",
    "\n",
    "* Downsampling\n",
    "* Oversampling\n",
    "* Assign weights to labels"
   ]
  },
  {
   "cell_type": "markdown",
   "id": "8fb7df18",
   "metadata": {
    "slideshow": {
     "slide_type": "slide"
    }
   },
   "source": [
    "#### Dimensionality Reduction\n",
    "\n",
    "Dimnesionality reduction is helpful in handling datasets with big number of features, it is beneficial in facilitating data visualization and having less computation when processing the data."
   ]
  },
  {
   "cell_type": "markdown",
   "id": "5d4bd4f3",
   "metadata": {
    "slideshow": {
     "slide_type": "slide"
    }
   },
   "source": [
    "## Review Questions\n",
    "\n",
    "Some questions to discuss and consider:\n",
    "\n",
    "* Given that there are missing values in a dataset. However, missing values are not focused on specific columns. What is your imputation strategy to handle this scenario?\n",
    "\n",
    "* What are the aspects of have a large K value in the K-nearest neighbor approach?"
   ]
  },
  {
   "cell_type": "markdown",
   "id": "16356fef",
   "metadata": {
    "slideshow": {
     "slide_type": "slide"
    }
   },
   "source": [
    "## Additional Resources\n",
    "\n",
    " 1. Roderick J A Little and Donald B Rubin (1986). “Statistical Analysis with Missing Data”. John Wiley & Sons, Inc., New York, NY, USA.\n",
    " \n",
    " 2. scikit learn, Preprocessing data, https://scikit-learn.org/stable/modules/preprocessing.html\n",
    " \n",
    " 3. Grus, Joel. *Data Science from Scratch*. 2015. ISBN-13: 978-1491901427"
   ]
  }
 ],
 "metadata": {
  "celltoolbar": "Slideshow",
  "kernelspec": {
   "display_name": "Python 3 (ipykernel)",
   "language": "python",
   "name": "python3"
  },
  "language_info": {
   "codemirror_mode": {
    "name": "ipython",
    "version": 3
   },
   "file_extension": ".py",
   "mimetype": "text/x-python",
   "name": "python",
   "nbconvert_exporter": "python",
   "pygments_lexer": "ipython3",
   "version": "3.11.4"
  }
 },
 "nbformat": 4,
 "nbformat_minor": 5
}
