{
 "cells": [
  {
   "cell_type": "markdown",
   "id": "5c0016b3",
   "metadata": {},
   "source": [
    "# CSCI1360\n",
    "## Module 2: Introduction to Python\n",
    "### Overview and Objectives"
   ]
  },
  {
   "cell_type": "markdown",
   "id": "09a4808a",
   "metadata": {},
   "source": [
    "In this lecture, we'll introduce the Python programming language and how to interact with it; aka, the proverbial [Hello, World!](https://en.wikipedia.org/wiki/%22Hello,_World!%22_program) lecture. By the end, you should be able to:"
   ]
  },
  {
   "cell_type": "markdown",
   "id": "b02aa44d",
   "metadata": {},
   "source": [
    " - Recall basic history and facts about Python (relevance in scientific computing, comparison to other languages)\n",
    " - Print arbitrary strings in a Python environment\n",
    " - Create and execute basic arithmetic operations\n",
    " - Understand and be able to use variable assignment and update"
   ]
  },
  {
   "cell_type": "markdown",
   "id": "60a413e2",
   "metadata": {},
   "source": [
    "### Part 1: Background\n",
    "Python as a language was implemented from the start by Guido van Rossum. What was originally something of a [snarkily-named hobby project to pass the holidays](https://www.python.org/doc/essays/foreword/) turned into a huge open source phenomenon used by millions."
   ]
  },
  {
   "cell_type": "markdown",
   "id": "e5f3ee61",
   "metadata": {},
   "source": [
    "* The original project began in 1989.\n",
    "* Release of Python 2.0 in 2000\n",
    "* Release of Python 3.0 in 2008\n",
    "\n",
    "We're using Python 3.0 in this class. Any number after the decimal is probably fine, though 3.10 or better is preferred for certain operations later on.\n"
   ]
  },
  {
   "cell_type": "markdown",
   "id": "64fde7f4",
   "metadata": {},
   "source": [
    "If you're (rightly!) wondering why a 2.x branch has survived a decade and a half after its initial release, there is indeed a story there. In short, Python 3 was designed as backwards-incompatible; a good number of syntax changes and other internal improvements made the majority of code written for Python 2 unusable in Python 3. We'll go over one of these examples, but suffice to say this made it difficult for power users and developers to upgrade, particularly when they relied on so many third-party libraries for much of the heavy-lifting in Python; until these third-party libraries were themselves converted to Python 3, most developers stuck with Python 2."
   ]
  },
  {
   "cell_type": "markdown",
   "id": "17f69ec9",
   "metadata": {},
   "source": [
    "#### As a language\n",
    "Python is an interpreted language. Those of you who have some prior programming experience may recognize this term; it means the code you write is directly translated and \"interpreted\" by the computer into 1s and 0s that are executed on the CPU. Often in contrast, compiled languages, such as C, are first compiled into binary executables of machine code that are then run by the computer.\n",
    "\n",
    "In practice, this distinction has become blurry, particularly in the past decade. Interpreted languages in general are easier to use but run more slowly and consume more resources; compiled languages in general are more difficult to program in, but run much more efficiently. As a result of these advantages and disadvantages, modern programming languages have attempted to combine the best of both worlds:"
   ]
  },
  {
   "cell_type": "markdown",
   "id": "6109af1d",
   "metadata": {},
   "source": [
    "* Java is initially compiled into bytecode, which is then run through the Java Virtual Machine which acts as an interpreter. In this sense, it is both a compiled language and an interpreted language.\n",
    "* Python runs on a reference implementation, CPython, in which chunks of Python code are compiled into intermediate representations and executed.\n",
    "* [Julia](http://julialang.org/), a relative newcomer in programming languages designed for scientific computing and data science, straddles a middle ground in a different way: using a \"just-in-time\" (JIT) compilation scheme, whereby code is compiled as the program runs, theoretically providing the performance of compiled programs with the ease of use of interpreted programs. JIT compilers have proliferated for other languages as well, including Python."
   ]
  },
  {
   "cell_type": "markdown",
   "id": "31db4e81",
   "metadata": {},
   "source": [
    "An important point to keep in mind about Python: it is not designed as a specialized language for performing a specific task. It does not have numerical and statistical tools embedded into the core language itself; instead, the Python community relies on third-party developers to provide these extras (XKCD, of course, [played off this facet of Python](https://xkcd.com/353/)). Instead, as Jake VanderPlas put it [2]:"
   ]
  },
  {
   "cell_type": "markdown",
   "id": "71d3aee7",
   "metadata": {},
   "source": [
    ">\"Python syntax is the glue that holds your data science code together. As many scientists and statisticians have found, Python excels in that role because it is powerful, intuitive, quick to write, fun to use, and above all extremely useful in day-to-day data science tasks.\""
   ]
  },
  {
   "cell_type": "markdown",
   "id": "c29c5940",
   "metadata": {},
   "source": [
    "#### Zen of Python\n",
    "One of the biggest reasons for Python's popularity, and for my decision in using it in this course, is its overall simplicity and ease of use, especially for individuals with little to no prior programming experience. This is no coincidence: Python was designed explicitly with this in mind. It's so central to the Python ethos, in fact, that it's baked into every Python installation. Tim Peters wrote a \"poem\" of sorts, The Zen of Python, that anyone with Python installed can read. To see it, just type one line of Python code:"
   ]
  },
  {
   "cell_type": "code",
   "execution_count": null,
   "id": "f50db341",
   "metadata": {},
   "outputs": [],
   "source": [
    "import this"
   ]
  },
  {
   "cell_type": "markdown",
   "id": "539ceb36",
   "metadata": {},
   "source": [
    "### Part 2: Hello, World!\n",
    "So what does it take to write your first program, your \"Hello, World!\"? Pound-include iostream dot h? Import java dot io? Define a main function with command-line parameters? Wrap the whole thing in a class?"
   ]
  },
  {
   "cell_type": "code",
   "execution_count": null,
   "id": "f88ff54e",
   "metadata": {},
   "outputs": [],
   "source": [
    "print(\"5\")"
   ]
  },
  {
   "cell_type": "markdown",
   "id": "b610b1c7",
   "metadata": {},
   "source": [
    "...yep! That's all there is to it.\n",
    "\n",
    "Just for the sake of being thorough, though, let's go through this command in painstaking detail."
   ]
  },
  {
   "cell_type": "markdown",
   "id": "2b34abd8",
   "metadata": {},
   "source": [
    "**Functions**: `print()` is a function."
   ]
  },
  {
   "cell_type": "markdown",
   "id": "573f6a53",
   "metadata": {},
   "source": [
    " - Functions take input, perform an operation on it, and give back (return) output."
   ]
  },
  {
   "cell_type": "markdown",
   "id": "e7faab52",
   "metadata": {},
   "source": [
    "You can think of it as a direct analog of the mathematical term, $f(x) = y$. In this case, $f()$ is the function; $x$ is the input, and $y$ is the output."
   ]
  },
  {
   "cell_type": "markdown",
   "id": "eb89da25",
   "metadata": {},
   "source": [
    "Later in the course, we'll see how to create our own functions, but for now we'll make use of the ones Python provides us by default."
   ]
  },
  {
   "cell_type": "markdown",
   "id": "bf2fe83f",
   "metadata": {},
   "source": [
    "**Arguments**: the input to the function."
   ]
  },
  {
   "cell_type": "markdown",
   "id": "df488f97",
   "metadata": {},
   "source": [
    "In this case, there is only one argument to `print()`: the text that we want printed out. This text, in Python parlance, is called a \"string\". I can only presume it is so named because it is a *string* of individual characters."
   ]
  },
  {
   "cell_type": "markdown",
   "id": "6c0ab88e",
   "metadata": {},
   "source": [
    "We can very easily change the argument we pass to `print()`:"
   ]
  },
  {
   "cell_type": "code",
   "execution_count": null,
   "id": "32befaf2",
   "metadata": {},
   "outputs": [],
   "source": [
    "print(\"This is not the same argument as before.\")"
   ]
  },
  {
   "cell_type": "markdown",
   "id": "41710c7a",
   "metadata": {},
   "source": [
    "We could also print out an empty string, or even no string at all."
   ]
  },
  {
   "cell_type": "code",
   "execution_count": null,
   "id": "22c3c93a",
   "metadata": {},
   "outputs": [],
   "source": [
    "print(\"123###^^&*\")  # this is an empty string\n",
    "print(\"321\")"
   ]
  },
  {
   "cell_type": "code",
   "execution_count": null,
   "id": "ed9c6df6",
   "metadata": {},
   "outputs": [],
   "source": [
    "print()  # this is just nothing\n",
    "print('5')\n",
    "print('hello')"
   ]
  },
  {
   "cell_type": "markdown",
   "id": "42e10ef1",
   "metadata": {},
   "source": [
    "In both cases, the output looks pretty much the same...because it is: just a blank line.\n",
    "\n",
    "- After `print()` finishes printing your input, it prints one final character--a *newline*.\n",
    "\n",
    "This is basically the programmatic equivalent of hitting `Enter` at the end of a line, moving the cursor down to the start of the next line."
   ]
  },
  {
   "cell_type": "markdown",
   "id": "33d9420f",
   "metadata": {},
   "source": [
    "### What are \"strings\"?\n",
    "\n",
    "Strings are a type of data format (remember data formats from *Greater Data Science*?) in Python that exclusively uses alphanumeric (A through Z, 0 through 9) characters.\n",
    "\n",
    "Look for the double-quotes!"
   ]
  },
  {
   "cell_type": "code",
   "execution_count": null,
   "id": "66c5fbbe",
   "metadata": {},
   "outputs": [],
   "source": [
    "\"5\"  # This is a string.\n",
    "5    # This is NOT a string."
   ]
  },
  {
   "cell_type": "code",
   "execution_count": null,
   "id": "6f7bca07",
   "metadata": {},
   "outputs": [],
   "source": [
    "# following I have a print command to welcome the user\n",
    "print('welcome to my program')"
   ]
  },
  {
   "cell_type": "markdown",
   "id": "1c1a5195",
   "metadata": {},
   "source": [
    "### What are the hashtags? (`#`)"
   ]
  },
  {
   "cell_type": "markdown",
   "id": "34284fa7",
   "metadata": {},
   "source": [
    "The pound signs `#` are delineators for *comments*.\n",
    "\n",
    " - Comments are lines in your program that Python ignores entirely.\n",
    " \n",
    " - When you type a `#` in Python, everything *after* that symbol on the same line is ignored.\n",
    "\n",
    "Comments exist purely for coders to explain and clarify parts of the code *directly* in the code itself. It's kind of like making notes on the margins of a textbook.\n",
    "\n",
    "I **strongly** encourage everyone to make liberal use of comments, even just to remind yourself what you were thinking! I can't count the number of times I worked on code, set it aside for a month, then came back to it and had absolutely no idea what I was doing."
   ]
  },
  {
   "cell_type": "markdown",
   "id": "96f2b763",
   "metadata": {},
   "source": [
    "## Part 3: Beyond \"Hello, World!\"\n",
    "\n",
    "Ok, so Python can print strings. That's cool. Can it do anything that's actually useful?\n",
    "\n",
    "Python has a lot of built-in objects and data structures that are very useful for more advanced operations--and we'll get to them soon enough!--but for now, you can use Python to perform basic arithmetic operations.\n",
    "\n",
    "Addition, subtraction, multiplication, division--they're all there. You can use it as a glorified calculator:"
   ]
  },
  {
   "cell_type": "code",
   "execution_count": null,
   "id": "d49944f0",
   "metadata": {},
   "outputs": [],
   "source": [
    "5 + 2\n",
    "3 + 4"
   ]
  },
  {
   "cell_type": "code",
   "execution_count": null,
   "id": "e4b9feab",
   "metadata": {},
   "outputs": [],
   "source": [
    "3 - 4 "
   ]
  },
  {
   "cell_type": "code",
   "execution_count": null,
   "id": "3056a1ba",
   "metadata": {},
   "outputs": [],
   "source": [
    "3 * 4"
   ]
  },
  {
   "cell_type": "code",
   "execution_count": null,
   "id": "f3a0cb58",
   "metadata": {},
   "outputs": [],
   "source": [
    "3 / 4"
   ]
  },
  {
   "cell_type": "markdown",
   "id": "405c93ef",
   "metadata": {},
   "source": [
    "Python knows how order of operations works, too:"
   ]
  },
  {
   "cell_type": "code",
   "execution_count": null,
   "id": "7271b9cd",
   "metadata": {},
   "outputs": [],
   "source": [
    "3 + 4 * 6 / 2 - 5"
   ]
  },
  {
   "cell_type": "code",
   "execution_count": null,
   "id": "1ac4387d",
   "metadata": {},
   "outputs": [],
   "source": [
    "(3 + 4) * 6 / (2 - 5)"
   ]
  },
  {
   "cell_type": "markdown",
   "id": "1d86cc64",
   "metadata": {},
   "source": [
    "Take a moment to convince yourself.\n",
    "\n",
    "Python even has a really cool exponent operator, denoted by using two stars right next to each other:"
   ]
  },
  {
   "cell_type": "code",
   "execution_count": null,
   "id": "bd1b2d5a",
   "metadata": {},
   "outputs": [],
   "source": [
    "2 ** 3  # 2 raised to the 3rd power"
   ]
  },
  {
   "cell_type": "code",
   "execution_count": null,
   "id": "8906e4e4",
   "metadata": {},
   "outputs": [],
   "source": [
    "3 ** 2  # 3 squared"
   ]
  },
  {
   "cell_type": "code",
   "execution_count": null,
   "id": "e3f7682b",
   "metadata": {},
   "outputs": [],
   "source": [
    "25 ** (1 / 2)  # Square root of 25"
   ]
  },
  {
   "cell_type": "markdown",
   "id": "91c0efed",
   "metadata": {},
   "source": [
    "Now for something really neat:"
   ]
  },
  {
   "cell_type": "code",
   "execution_count": null,
   "id": "0f3e07c2",
   "metadata": {},
   "outputs": [],
   "source": [
    "y = 2\n",
    "y * 3"
   ]
  },
  {
   "cell_type": "markdown",
   "id": "35a29501",
   "metadata": {},
   "source": [
    "This is an example of using Python *variables*.\n",
    "\n",
    " - Variables store and maintain values that can be updated and manipulated as the program runs.\n",
    "\n",
    " - You can name a variable whatever you like, as long as it doesn't start with a number (\"`5var`\" would be illegal, but \"`var5`\" would be fine) or conflict with reserved Python words (like `print`).\n",
    " \n",
    "Here's an operation that involves two variables:"
   ]
  },
  {
   "cell_type": "code",
   "execution_count": null,
   "id": "85d2c586",
   "metadata": {},
   "outputs": [],
   "source": [
    "x = 2\n",
    "y = 3\n",
    "x * y"
   ]
  },
  {
   "cell_type": "markdown",
   "id": "e92a3bad",
   "metadata": {},
   "source": [
    "We can *assign* the result of operations with variables to other variables:"
   ]
  },
  {
   "cell_type": "code",
   "execution_count": null,
   "id": "1b198575",
   "metadata": {},
   "outputs": [],
   "source": [
    "x = 2\n",
    "y = 3\n",
    "z = x * y\n",
    "print(z)"
   ]
  },
  {
   "cell_type": "markdown",
   "id": "a2a95cfa",
   "metadata": {},
   "source": [
    "The use of the equals sign `=` is literally called the *assignment operator* (NOT the \"equal\" sign!).\n",
    "\n",
    " - \"Assignment\" takes whatever value is being computed on the right-hand side of the equation and *assigns* it to the variable on the left-hand side.\n",
    " \n",
    " - Multiplication (`*`), Division (`/`), Addition (`+`), and Subtraction (`-`) are also *operators*.\n",
    "  \n",
    "Operators *operate* on things. Multiplication, division, addition, subtraction, assignment, and exponentiation are all *operators*.\n",
    "\n",
    "What happens if I perform an assignment on something that can't be assigned a different value...such as, say, a number?\n",
    "\n"
   ]
  },
  {
   "cell_type": "code",
   "execution_count": null,
   "id": "98931081",
   "metadata": {},
   "outputs": [],
   "source": [
    "x = 2\n",
    "y = 3"
   ]
  },
  {
   "cell_type": "code",
   "execution_count": null,
   "id": "d893fa79",
   "metadata": {},
   "outputs": [],
   "source": [
    "5 = x * y"
   ]
  },
  {
   "cell_type": "markdown",
   "id": "847d8062",
   "metadata": {},
   "source": [
    "**CRASH!**\n",
    "\n",
    "Ok, not really; Python technically did what it was supposed to do. It threw an error, alerting you that something in your program didn't work for some reason. In this case, the error message is `can't assign to literal`.\n",
    "\n",
    "Let's parse out that error message, starting with the `SyntaxError:` prefix:\n",
    "\n",
    " - `Error` is an obvious hint.\n",
    " \n",
    " - `Syntax` gives us some context.\n",
    "  \n",
    "We did something wrong that involves Python's *syntax*, or the structure of its language. Specifically, we tried to *assign* (remember the assignment operator!) a value to a *literal*.\n",
    "\n",
    "What's a literal? The \"`literal`\" being referred to is the number 5 in the operation: `5 = x * y`\n",
    "\n",
    " - We are attempting to assign the result of the computation of `x * y` to the number 5\n",
    " \n",
    " - However, 5 is known internally to Python as a \"literal\"\n",
    " \n",
    " - 5 is literally 5; you can't change the value of 5!  (5 = 8? NOPE)\n",
    "\n",
    "So we can't assign values to numbers. What about assigning values to a variable that's used in the very same calculation?\n",
    "\n"
   ]
  },
  {
   "cell_type": "code",
   "execution_count": null,
   "id": "e5fea740",
   "metadata": {},
   "outputs": [],
   "source": [
    "x = 2\n",
    "y = 3\n",
    "x = x * y   # zomg!\n",
    "print(x)"
   ]
  },
  {
   "cell_type": "markdown",
   "id": "9bb4e72f",
   "metadata": {},
   "source": [
    "This works just fine! In fact, it's more than fine--this is such a standard operation, it has its own operator:"
   ]
  },
  {
   "cell_type": "code",
   "execution_count": null,
   "id": "b006fdf6",
   "metadata": {},
   "outputs": [],
   "source": [
    "x = 2\n",
    "y = 3\n",
    "x *= y   # does exactly the same thing as before\n",
    "print(x)\n"
   ]
  },
  {
   "cell_type": "markdown",
   "id": "d43aba23",
   "metadata": {},
   "source": [
    "Out loud, it's pretty much what it sounds like: \"x times equals y\".\n",
    "\n",
    "This is an example of a shorthand operator. You could absolutely live without it! It's purely there to make your life easier.\n",
    "\n",
    " - We multiplied `x` by `y` and stored the product in `x`, effectively updating it.\n",
    " \n",
    " - There are many instances where you'll want to increment a variable: for example, when counting how many of some \"thing\" you have.\n",
    "  \n",
    " - All the other operators have the same shorthand-update versions: `+=` for addition, `-=` for subtraction, and `/=` for division.\n",
    " \n",
    " You **don't have to** use these operators if they're confusing! They exist for your convenience, but if you'd rather write out `x = x + 1` every time you increment a variable by 1, that's absolutely 100% OK.\n",
    " \n",
    " \n",
    " ## Review Questions\n",
    " \n",
    " 1: Let's say you want to count the number of words in Wikipedia. You have a variable to track this count: `word_count = 0`. For every word you come across, you'll update this counter by 1. Using the shorthand you saw before, what would the command be to update the variable at each word?\n",
    "\n",
    "2: What would happen if I ran this command? Explain. `(\"5\" + 5)`\n",
    "\n",
    "3: What would happen if I ran these commands? Explain.\n",
    "```\n",
    "x = \"5\"\n",
    "y = \"10\"\n",
    "z = x + y\n",
    "print(z)\n",
    "```\n",
    "\n",
    "4: What would happen if I ran this command? Explain. `x = y`"
   ]
  },
  {
   "cell_type": "code",
   "execution_count": null,
   "id": "fa2d3e97",
   "metadata": {},
   "outputs": [],
   "source": [
    "(\"5\" + 5)"
   ]
  },
  {
   "cell_type": "code",
   "execution_count": null,
   "id": "27431d75",
   "metadata": {},
   "outputs": [],
   "source": [
    "x = \"5\"\n",
    "y = \"10\"\n",
    "z = x + y\n",
    "print(z)"
   ]
  },
  {
   "cell_type": "code",
   "execution_count": null,
   "id": "f1993249",
   "metadata": {},
   "outputs": [],
   "source": [
    "x = y\n",
    "print(x)\n",
    "print(y)"
   ]
  },
  {
   "cell_type": "code",
   "execution_count": null,
   "id": "d45a6179",
   "metadata": {},
   "outputs": [],
   "source": []
  }
 ],
 "metadata": {
  "kernelspec": {
   "display_name": "Python 3 (ipykernel)",
   "language": "python",
   "name": "python3"
  },
  "language_info": {
   "codemirror_mode": {
    "name": "ipython",
    "version": 3
   },
   "file_extension": ".py",
   "mimetype": "text/x-python",
   "name": "python",
   "nbconvert_exporter": "python",
   "pygments_lexer": "ipython3",
   "version": "3.11.4"
  }
 },
 "nbformat": 4,
 "nbformat_minor": 5
}
