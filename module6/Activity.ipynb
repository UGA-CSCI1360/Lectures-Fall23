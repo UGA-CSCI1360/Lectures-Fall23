{
 "cells": [
  {
   "cell_type": "markdown",
   "id": "8490453c",
   "metadata": {},
   "source": [
    "# In-class Activity\n",
    "\n",
    "## Generate a list of first nine positive integer numbers, slice the list into three equal sub lists, use NumpPy to sum all the values that have the same index in the three lists."
   ]
  },
  {
   "cell_type": "code",
   "execution_count": 3,
   "id": "fceb93e0",
   "metadata": {},
   "outputs": [
    {
     "name": "stdout",
     "output_type": "stream",
     "text": [
      "[12 15 18]\n"
     ]
    }
   ],
   "source": [
    "import numpy as np\n",
    "\n",
    "x = [i for i in range(1,10) ]\n",
    "\n",
    "# print(x)\n",
    "\n",
    "a = np.array( x[:3])\n",
    "# print(a)\n",
    "b = np.array(x [3:6])\n",
    "c = np.array( x [6:])\n",
    "\n",
    "print( a + b + c )\n"
   ]
  },
  {
   "cell_type": "code",
   "execution_count": null,
   "id": "53830e18",
   "metadata": {},
   "outputs": [],
   "source": []
  }
 ],
 "metadata": {
  "kernelspec": {
   "display_name": "Python 3 (ipykernel)",
   "language": "python",
   "name": "python3"
  },
  "language_info": {
   "codemirror_mode": {
    "name": "ipython",
    "version": 3
   },
   "file_extension": ".py",
   "mimetype": "text/x-python",
   "name": "python",
   "nbconvert_exporter": "python",
   "pygments_lexer": "ipython3",
   "version": "3.11.4"
  }
 },
 "nbformat": 4,
 "nbformat_minor": 5
}
